{
  "nbformat": 4,
  "nbformat_minor": 0,
  "metadata": {
    "colab": {
      "provenance": [],
      "mount_file_id": "15CV8_dpo0Hhgnf3z5qH_Pj0p38ei1goi",
      "authorship_tag": "ABX9TyPkm5ig7NZ7HXMCpv1ryWJa",
      "include_colab_link": true
    },
    "kernelspec": {
      "name": "python3",
      "display_name": "Python 3"
    },
    "language_info": {
      "name": "python"
    }
  },
  "cells": [
    {
      "cell_type": "markdown",
      "metadata": {
        "id": "view-in-github",
        "colab_type": "text"
      },
      "source": [
        "<a href=\"https://colab.research.google.com/github/adalbertii/architektura-ai/blob/main/Azure_OCR_API_case.ipynb\" target=\"_parent\"><img src=\"https://colab.research.google.com/assets/colab-badge.svg\" alt=\"Open In Colab\"/></a>"
      ]
    },
    {
      "cell_type": "code",
      "execution_count": 15,
      "metadata": {
        "id": "4ByNiehSQrzW"
      },
      "outputs": [],
      "source": [
        "import os\n",
        "import sys\n",
        "import requests\n",
        "\n",
        "%matplotlib inline\n",
        "import matplotlib.pyplot as plt\n",
        "from matplotlib.patches import Rectangle\n",
        "from PIL import Image\n",
        "from io import BytesIO"
      ]
    },
    {
      "cell_type": "code",
      "source": [
        "subscription_key = 'efaf9ec2e57d49df94153fc641c46c29'\n",
        "endpoint = 'https://wmi-computer-vision.cognitiveservices.azure.com/'"
      ],
      "metadata": {
        "id": "A2FfXXfsQtTB"
      },
      "execution_count": 16,
      "outputs": []
    },
    {
      "cell_type": "code",
      "source": [
        "ocr_url = endpoint + \"vision/v3.1/ocr\""
      ],
      "metadata": {
        "id": "gORaQng_UskG"
      },
      "execution_count": 17,
      "outputs": []
    },
    {
      "cell_type": "code",
      "source": [
        "#image_url = \"https://upload.wikimedia.org/wikipedia/commons/thumb/a/af/Atomist_quote_from_Democritus.png/338px-Atomist_quote_from_Democritus.png\""
      ],
      "metadata": {
        "id": "6mdvoCx0Uw-2"
      },
      "execution_count": 7,
      "outputs": []
    },
    {
      "cell_type": "code",
      "source": [
        "image_path = \"/content/drive/MyDrive/dane/obraz z tekstem 01.png\"\n",
        "\n",
        "image_data = open(image_path, \"rb\").read()\n",
        "\n",
        "headers = {'Ocp-Apim-Subscription-Key': subscription_key, 'Content-Type': 'application/octet-stream'}\n",
        "\n",
        "response = requests.post(ocr_url, headers=headers, params=params, data = image_data)"
      ],
      "metadata": {
        "id": "UpZU8u_mYOsM"
      },
      "execution_count": 18,
      "outputs": []
    },
    {
      "cell_type": "code",
      "source": [
        "#headers = {'Ocp-Apim-Subscription-Key': subscription_key}\n",
        "#params = {'language': 'unk', 'detectOrientation': 'true'}\n",
        "#data = {'url': image_url}\n",
        "#response = requests.post(ocr_url, headers=headers, params=params, json=data)\n",
        "#response.raise_for_status()"
      ],
      "metadata": {
        "id": "naKQ0NVAU_nj"
      },
      "execution_count": 8,
      "outputs": []
    },
    {
      "cell_type": "code",
      "source": [
        "analysis = response.json()\n",
        "analysis"
      ],
      "metadata": {
        "colab": {
          "base_uri": "https://localhost:8080/"
        },
        "id": "4A9jehzsVLtL",
        "outputId": "286476f0-b58c-449c-c7e4-899953039245"
      },
      "execution_count": 19,
      "outputs": [
        {
          "output_type": "execute_result",
          "data": {
            "text/plain": [
              "{'language': 'en',\n",
              " 'textAngle': 0.0,\n",
              " 'orientation': 'Up',\n",
              " 'regions': [{'boundingBox': '21,16,304,451',\n",
              "   'lines': [{'boundingBox': '28,16,288,41',\n",
              "     'words': [{'boundingBox': '28,16,288,41', 'text': 'NOTHING'}]},\n",
              "    {'boundingBox': '26,66,284,52',\n",
              "     'words': [{'boundingBox': '26,66,284,52', 'text': 'EXISTS'}]},\n",
              "    {'boundingBox': '27,128,292,49',\n",
              "     'words': [{'boundingBox': '27,128,292,49', 'text': 'EXCEPT'}]},\n",
              "    {'boundingBox': '24,188,292,54',\n",
              "     'words': [{'boundingBox': '24,188,292,54', 'text': 'ATOMS'}]},\n",
              "    {'boundingBox': '22,253,297,32',\n",
              "     'words': [{'boundingBox': '22,253,105,32', 'text': 'AND'},\n",
              "      {'boundingBox': '144,253,175,32', 'text': 'EMPTY'}]},\n",
              "    {'boundingBox': '21,298,304,60',\n",
              "     'words': [{'boundingBox': '21,298,304,60', 'text': 'SPACE.'}]},\n",
              "    {'boundingBox': '26,387,294,38',\n",
              "     'words': [{'boundingBox': '26,387,210,38', 'text': 'Everything'},\n",
              "      {'boundingBox': '249,389,71,27', 'text': 'else'}]},\n",
              "    {'boundingBox': '127,431,198,36',\n",
              "     'words': [{'boundingBox': '127,431,31,29', 'text': 'is'},\n",
              "      {'boundingBox': '172,431,153,36', 'text': 'opinion.'}]}]}]}"
            ]
          },
          "metadata": {},
          "execution_count": 19
        }
      ]
    },
    {
      "cell_type": "code",
      "source": [
        "# Wyodrębnienie obwiednie wyrazów i tekstu.\n",
        "line_infos = [region[\"lines\"] for region in analysis[\"regions\"]]\n",
        "word_infos = []\n",
        "for line in line_infos:\n",
        "    for word_metadata in line:\n",
        "        for word_info in word_metadata[\"words\"]:\n",
        "            word_infos.append(word_info)\n",
        "word_infos"
      ],
      "metadata": {
        "colab": {
          "base_uri": "https://localhost:8080/"
        },
        "id": "t1uzYo6XWeqQ",
        "outputId": "6821ddf6-0f86-4162-eb9a-9718b7e95609"
      },
      "execution_count": 20,
      "outputs": [
        {
          "output_type": "execute_result",
          "data": {
            "text/plain": [
              "[{'boundingBox': '28,16,288,41', 'text': 'NOTHING'},\n",
              " {'boundingBox': '26,66,284,52', 'text': 'EXISTS'},\n",
              " {'boundingBox': '27,128,292,49', 'text': 'EXCEPT'},\n",
              " {'boundingBox': '24,188,292,54', 'text': 'ATOMS'},\n",
              " {'boundingBox': '22,253,105,32', 'text': 'AND'},\n",
              " {'boundingBox': '144,253,175,32', 'text': 'EMPTY'},\n",
              " {'boundingBox': '21,298,304,60', 'text': 'SPACE.'},\n",
              " {'boundingBox': '26,387,210,38', 'text': 'Everything'},\n",
              " {'boundingBox': '249,389,71,27', 'text': 'else'},\n",
              " {'boundingBox': '127,431,31,29', 'text': 'is'},\n",
              " {'boundingBox': '172,431,153,36', 'text': 'opinion.'}]"
            ]
          },
          "metadata": {},
          "execution_count": 20
        }
      ]
    }
  ]
}