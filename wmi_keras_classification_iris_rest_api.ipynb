{
  "nbformat": 4,
  "nbformat_minor": 0,
  "metadata": {
    "colab": {
      "provenance": [],
      "authorship_tag": "ABX9TyPy9CWzyhHdrmv4j4T+aw1P",
      "include_colab_link": true
    },
    "kernelspec": {
      "name": "python3",
      "display_name": "Python 3"
    },
    "language_info": {
      "name": "python"
    }
  },
  "cells": [
    {
      "cell_type": "markdown",
      "metadata": {
        "id": "view-in-github",
        "colab_type": "text"
      },
      "source": [
        "<a href=\"https://colab.research.google.com/github/adalbertii/architektura-ai/blob/main/wmi_keras_classification_iris_rest_api.ipynb\" target=\"_parent\"><img src=\"https://colab.research.google.com/assets/colab-badge.svg\" alt=\"Open In Colab\"/></a>"
      ]
    },
    {
      "cell_type": "markdown",
      "source": [
        "**Budowa usługi REST w oparciu o framework FLASK**\n",
        "\n",
        "Wykorzystanie modelu wytrennowanego w odrębnym notebook -u\n",
        "\n",
        "https://dashboard.ngrok.com/get-started/your-authtoken\n"
      ],
      "metadata": {
        "id": "rGrixZy0p7n5"
      }
    },
    {
      "cell_type": "code",
      "source": [
        "!pip install flask-ngrok"
      ],
      "metadata": {
        "id": "4hanMd-8tLo9"
      },
      "execution_count": null,
      "outputs": []
    },
    {
      "cell_type": "code",
      "source": [
        "from flask import Flask, request, jsonify"
      ],
      "metadata": {
        "id": "2bvQT2vbnGRO"
      },
      "execution_count": null,
      "outputs": []
    },
    {
      "cell_type": "code",
      "source": [
        "!pip install pyngrok\n",
        "!ngrok authtoken *********************************"
      ],
      "metadata": {
        "id": "v5-Ur3Ynm1KS"
      },
      "execution_count": null,
      "outputs": []
    },
    {
      "cell_type": "code",
      "source": [
        "from flask_ngrok import run_with_ngrok"
      ],
      "metadata": {
        "id": "kS3YlREenBMm"
      },
      "execution_count": null,
      "outputs": []
    },
    {
      "cell_type": "code",
      "execution_count": null,
      "metadata": {
        "id": "AYIO4liMp1XJ"
      },
      "outputs": [],
      "source": [
        "import numpy as np\n",
        "from tensorflow.keras.models import load_model\n",
        "import joblib"
      ]
    },
    {
      "cell_type": "code",
      "source": [
        "def return_prediction(model, scaler, sample_json):\n",
        "    s_len = sample_json[\"sepal_length\"]\n",
        "    s_wid = sample_json[\"sepal_width\"]\n",
        "    p_len = sample_json[\"petal_length\"]\n",
        "    p_wid = sample_json[\"petal_width\"]\n",
        "\n",
        "    flower = [[s_len, s_wid, p_len, p_wid ]]\n",
        "\n",
        "    classes = np.array(('Iris-setosa', 'Iris-versicolor', 'Iris-virginica'))\n",
        "\n",
        "\n",
        "    flower =  scaler.transform(flower)\n",
        "    predict_x = model.predict(flower, verbose='0')\n",
        "    classes_ind = np.argmax(predict_x,axis=1)\n",
        "\n",
        "\n",
        "    return classes[classes_ind][0]\n"
      ],
      "metadata": {
        "id": "EUoX2YTKqqgu"
      },
      "execution_count": null,
      "outputs": []
    },
    {
      "cell_type": "code",
      "source": [
        "app=Flask(__name__)\n",
        "run_with_ngrok(app)  # Start ngrok when app is run\n",
        "\n",
        "@app.route(\"/\")\n",
        "def index():\n",
        "    return '<h1> \"Educational Friday: 21.04.2023 - homepage IRIS neural network model\" </h1>'\n",
        "\n",
        "flower_model = load_model('final_iris_model.h5')\n",
        "flower_scaler = joblib.load('iris_scaler.pkl')\n",
        "\n",
        "@app.route('/api/Flower', methods=['POST'])\n",
        "def flower_prediction():\n",
        "    content = request.json\n",
        "    results = return_prediction(flower_model, flower_scaler, content)\n",
        "    return jsonify(results)\n",
        "\n",
        "if __name__== '__main__':\n",
        "    app.run()"
      ],
      "metadata": {
        "id": "lTBLXfcoq_ha"
      },
      "execution_count": null,
      "outputs": []
    }
  ]
}