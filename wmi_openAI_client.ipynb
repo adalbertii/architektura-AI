{
  "nbformat": 4,
  "nbformat_minor": 0,
  "metadata": {
    "colab": {
      "provenance": [],
      "authorship_tag": "ABX9TyP69DPDmALQy18blNZJEaZN",
      "include_colab_link": true
    },
    "kernelspec": {
      "name": "python3",
      "display_name": "Python 3"
    },
    "language_info": {
      "name": "python"
    }
  },
  "cells": [
    {
      "cell_type": "markdown",
      "metadata": {
        "id": "view-in-github",
        "colab_type": "text"
      },
      "source": [
        "<a href=\"https://colab.research.google.com/github/adalbertii/21.04.2023-python-notebooks-package/blob/main/wmi_openAI_client.ipynb\" target=\"_parent\"><img src=\"https://colab.research.google.com/assets/colab-badge.svg\" alt=\"Open In Colab\"/></a>"
      ]
    },
    {
      "cell_type": "markdown",
      "source": [
        "\n",
        "\n",
        "**Wykorzystanie usług OpenAI API z pozimu Python**\n",
        "\n",
        "\n",
        "*Załadowac klucz dostępowy z : https://platform.openai.com/overview*\n",
        "\n",
        "*-->Personal->View API case -> Create new secret key*\n",
        "\n",
        "\n",
        "---\n",
        "\n",
        "\n"
      ],
      "metadata": {
        "id": "_5r7zMu0v_uc"
      }
    },
    {
      "cell_type": "code",
      "source": [
        "pip install openai"
      ],
      "metadata": {
        "id": "O7B-XKzexKr7"
      },
      "execution_count": null,
      "outputs": []
    },
    {
      "cell_type": "code",
      "source": [
        "import json\n",
        "import openai"
      ],
      "metadata": {
        "id": "XYeeudJex7sD"
      },
      "execution_count": null,
      "outputs": []
    },
    {
      "cell_type": "code",
      "source": [
        "openai.api_key = '*************************'"
      ],
      "metadata": {
        "id": "OFD4BWahx-VY"
      },
      "execution_count": null,
      "outputs": []
    },
    {
      "cell_type": "code",
      "source": [
        "def get_content(in_prompt):\n",
        "    response = openai.Completion.create(model=\"text-davinci-003\",\n",
        "                                        prompt=in_prompt,\n",
        "                                        temperature=0,\n",
        "                                        max_tokens=3900)\n",
        "    return response"
      ],
      "metadata": {
        "id": "d2GRPDFFiTyA"
      },
      "execution_count": null,
      "outputs": []
    },
    {
      "cell_type": "code",
      "execution_count": null,
      "metadata": {
        "id": "R68Db1z0v-qN"
      },
      "outputs": [],
      "source": [
        "if __name__ == \"__main__\":\n",
        "    in_prompt = input(\"Insert text: \")\n",
        "    print(in_prompt)\n",
        "\n",
        "    content_json = get_content(in_prompt)\n",
        "\n",
        "    # result as JSON\n",
        "    print(content_json)\n",
        "\n",
        "    content_text = content_json[\"choices\"][0][\"text\"]\n",
        "\n",
        "\n"
      ]
    },
    {
      "cell_type": "code",
      "source": [
        "# Question:\n",
        "print(in_prompt)\n",
        "# Result as text:\n",
        "print(content_text)"
      ],
      "metadata": {
        "id": "CvxBtN3STK0t"
      },
      "execution_count": null,
      "outputs": []
    }
  ]
}